{
 "cells": [
  {
   "cell_type": "markdown",
   "id": "05d4a733-3541-4e73-bed5-c107ad1a92ea",
   "metadata": {},
   "source": [
    "<h1 style=\"color: teal; font-size: 40px;\">🏥 Medical Cost Regression Project</h1>\n"
   ]
  },
  {
   "cell_type": "code",
   "execution_count": 18,
   "id": "6543cff4-85f5-4d07-a01e-946271c914ee",
   "metadata": {},
   "outputs": [],
   "source": [
    "# insurance_cost_regression.py\n",
    "\n",
    "import pandas as pd\n",
    "import pickle\n",
    "from sklearn.model_selection import train_test_split\n",
    "from sklearn.preprocessing import LabelEncoder, StandardScaler\n",
    "from sklearn.linear_model import LinearRegression\n",
    "from sklearn.ensemble import RandomForestRegressor, GradientBoostingRegressor\n",
    "from sklearn.tree import DecisionTreeRegressor\n",
    "from sklearn.neighbors import KNeighborsRegressor\n",
    "from sklearn.metrics import mean_absolute_error, mean_squared_error, r2_score"
   ]
  },
  {
   "cell_type": "code",
   "execution_count": 19,
   "id": "a5b73fa8-dcdf-4521-af51-b50146f0eb97",
   "metadata": {},
   "outputs": [],
   "source": [
    "# Load dataset\n",
    "df = pd.read_csv(\"insurance.csv\")"
   ]
  },
  {
   "cell_type": "code",
   "execution_count": 20,
   "id": "ecdbe6dd-adcd-4713-b2c9-7ca9b67cdd6f",
   "metadata": {},
   "outputs": [],
   "source": [
    "# Encode categorical features\n",
    "le = LabelEncoder()\n",
    "for col in ['sex', 'smoker', 'region']:\n",
    "    df[col] = le.fit_transform(df[col])"
   ]
  },
  {
   "cell_type": "code",
   "execution_count": 21,
   "id": "a5e397d1-c845-4f6c-9f4b-43850904139d",
   "metadata": {},
   "outputs": [],
   "source": [
    "# Features and Target\n",
    "X = df.drop(\"charges\", axis=1)\n",
    "y = df[\"charges\"]"
   ]
  },
  {
   "cell_type": "code",
   "execution_count": 22,
   "id": "96bc22f6-47ae-4a1e-98cc-5ad4b01080d6",
   "metadata": {},
   "outputs": [],
   "source": [
    "# Scale features\n",
    "scaler = StandardScaler()\n",
    "X_scaled = scaler.fit_transform(X)"
   ]
  },
  {
   "cell_type": "code",
   "execution_count": 23,
   "id": "ed448221-6b08-4e49-ba22-793fca28a7e6",
   "metadata": {},
   "outputs": [],
   "source": [
    "# Train/test split\n",
    "X_train, X_test, y_train, y_test = train_test_split(X_scaled, y, test_size=0.2, random_state=42)\n",
    "\n",
    "# Define regression models\n",
    "models = {\n",
    "    \"Linear Regression\": LinearRegression(),\n",
    "    \"Decision Tree\": DecisionTreeRegressor(),\n",
    "    \"Random Forest\": RandomForestRegressor(),\n",
    "    \"Gradient Boosting\": GradientBoostingRegressor(),\n",
    "    \"KNN Regressor\": KNeighborsRegressor()\n",
    "}"
   ]
  },
  {
   "cell_type": "code",
   "execution_count": 24,
   "id": "08741470-976d-4222-826f-8beeb7a0a443",
   "metadata": {},
   "outputs": [],
   "source": [
    "# Train and evaluate each model\n",
    "results = {}\n",
    "for name, model in models.items():\n",
    "    model.fit(X_train, y_train)\n",
    "    preds = model.predict(X_test)\n",
    "    results[name] = {\n",
    "        \"MAE\": mean_absolute_error(y_test, preds),\n",
    "        \"MSE\": mean_squared_error(y_test, preds),\n",
    "        \"R2 Score\": r2_score(y_test, preds)\n",
    "    }\n"
   ]
  },
  {
   "cell_type": "code",
   "execution_count": 25,
   "id": "06ad875f-67ee-44c3-8362-b824a0a5d65e",
   "metadata": {},
   "outputs": [
    {
     "name": "stdout",
     "output_type": "stream",
     "text": [
      "📊 Model Comparison:\n",
      "                            MAE           MSE  R2 Score\n",
      "Gradient Boosting  2448.343338  1.899770e+07  0.877631\n",
      "Random Forest      2450.677667  2.096239e+07  0.864975\n",
      "KNN Regressor      3044.069796  2.577585e+07  0.833971\n",
      "Linear Regression  4186.508898  3.363521e+07  0.783346\n",
      "Decision Tree      2846.575183  3.922493e+07  0.747341\n",
      "\n",
      "✅ Best model saved: Gradient Boosting\n"
     ]
    }
   ],
   "source": [
    "# Sort and show results\n",
    "results_df = pd.DataFrame(results).T.sort_values(by=\"R2 Score\", ascending=False)\n",
    "print(\"📊 Model Comparison:\\n\", results_df)\n",
    "\n",
    "# Save the best performing model\n",
    "best_model_name = results_df.index[0]\n",
    "best_model = models[best_model_name]\n",
    "with open(\"insurance_cost_model.pkl\", \"wb\") as f:\n",
    "    pickle.dump(best_model, f)\n",
    "\n",
    "print(f\"\\n✅ Best model saved: {best_model_name}\")"
   ]
  },
  {
   "cell_type": "markdown",
   "id": "2e2ba679-38a1-41d2-ac6e-1f1d75866161",
   "metadata": {},
   "source": [
    "<h1 style=\"color: teal; font-size: 40px;\">GUI</h1>"
   ]
  },
  {
   "cell_type": "code",
   "execution_count": 26,
   "id": "17e58c4e-5631-4b56-b039-95575ce82bea",
   "metadata": {},
   "outputs": [
    {
     "data": {
      "application/vnd.jupyter.widget-view+json": {
       "model_id": "9ef666636de24d85a8e83b5b70ceda35",
       "version_major": 2,
       "version_minor": 0
      },
      "text/plain": [
       "HTML(value=\"<h2 style='color: teal;'>🏥 Insurance Cost Estimator</h2>\")"
      ]
     },
     "metadata": {},
     "output_type": "display_data"
    },
    {
     "data": {
      "application/vnd.jupyter.widget-view+json": {
       "model_id": "930c2193437742079bb35f4757822e36",
       "version_major": 2,
       "version_minor": 0
      },
      "text/plain": [
       "VBox(children=(IntSlider(value=30, description='Age', min=18, style=SliderStyle(description_width='initial')),…"
      ]
     },
     "metadata": {},
     "output_type": "display_data"
    }
   ],
   "source": [
    "import pickle\n",
    "import numpy as np\n",
    "import ipywidgets as widgets\n",
    "from IPython.display import display, clear_output\n",
    "import matplotlib.pyplot as plt\n",
    "\n",
    "# Load saved model\n",
    "with open(\"insurance_cost_model.pkl\", \"rb\") as f:\n",
    "    model = pickle.load(f)\n",
    "\n",
    "# Input widgets\n",
    "age = widgets.IntSlider(description='Age', min=18, max=100, value=30, style={'description_width': 'initial'})\n",
    "sex = widgets.Dropdown(options=[('Male', 1), ('Female', 0)], description='Sex', style={'description_width': 'initial'})\n",
    "bmi = widgets.FloatSlider(description='BMI', min=15.0, max=45.0, step=0.1, value=25.0, style={'description_width': 'initial'})\n",
    "children = widgets.IntSlider(description='Children', min=0, max=5, value=0, style={'description_width': 'initial'})\n",
    "smoker = widgets.Dropdown(options=[('Yes', 1), ('No', 0)], description='Smoker', style={'description_width': 'initial'})\n",
    "region = widgets.Dropdown(\n",
    "    options=[('Southwest', 3), ('Southeast', 2), ('Northwest', 1), ('Northeast', 0)],\n",
    "    description='Region', style={'description_width': 'initial'}\n",
    ")\n",
    "\n",
    "output_box = widgets.Output()\n",
    "\n",
    "# Predict button\n",
    "predict_btn = widgets.Button(description=\"💸 Predict Insurance Cost\", button_style='success')\n",
    "\n",
    "# Prediction logic\n",
    "def predict_cost(b):\n",
    "    with output_box:\n",
    "        clear_output()\n",
    "        input_data = np.array([[age.value, sex.value, bmi.value, children.value, smoker.value, region.value]])\n",
    "        prediction = model.predict(input_data)[0]\n",
    "        \n",
    "        print(\"📊 Estimated Insurance Cost:\")\n",
    "        print(f\"💰 ${prediction:,.2f}\")\n",
    "        \n",
    "        # Visual display\n",
    "        fig, ax = plt.subplots(figsize=(6, 1.5))\n",
    "        ax.barh(['Predicted Cost'], [prediction], color='orange')\n",
    "        ax.set_xlim([0, max(60000, prediction + 1000)])\n",
    "        ax.set_xlabel(\"Cost ($)\")\n",
    "        ax.set_title(\"Prediction Output\")\n",
    "        plt.show()\n",
    "\n",
    "predict_btn.on_click(predict_cost)\n",
    "\n",
    "# Layout\n",
    "form_items = widgets.VBox([\n",
    "    age, sex, bmi, children, smoker, region, predict_btn, output_box\n",
    "])\n",
    "\n",
    "display(widgets.HTML(\"<h2 style='color: teal;'>🏥 Insurance Cost Estimator</h2>\"))\n",
    "display(form_items)\n"
   ]
  },
  {
   "cell_type": "code",
   "execution_count": null,
   "id": "04ae5878-1419-4a6d-9214-ed49ead4f2c2",
   "metadata": {},
   "outputs": [],
   "source": []
  },
  {
   "cell_type": "code",
   "execution_count": null,
   "id": "931c288e-cbf8-4c95-b14d-4a5c72e908cd",
   "metadata": {},
   "outputs": [],
   "source": []
  }
 ],
 "metadata": {
  "kernelspec": {
   "display_name": "Python 3 (ipykernel)",
   "language": "python",
   "name": "python3"
  },
  "language_info": {
   "codemirror_mode": {
    "name": "ipython",
    "version": 3
   },
   "file_extension": ".py",
   "mimetype": "text/x-python",
   "name": "python",
   "nbconvert_exporter": "python",
   "pygments_lexer": "ipython3",
   "version": "3.13.2"
  }
 },
 "nbformat": 4,
 "nbformat_minor": 5
}

{
 "cells": [
  {
   "cell_type": "code",
   "execution_count": null,
   "id": "18aebaa9-9e1e-4ce9-833e-2eb0c91c953b",
   "metadata": {},
   "outputs": [],
   "source": [
    "def check_prime(num):\n",
    "        for i in range(2, num):\n",
    "            if num % i == 0:\n",
    "                return False\n",
    "                print(\"num is prime\")\n",
    "num= (int(input(\"Enter a num\")))\n",
    "check_prime(num)"
   ]
  },
  {
   "cell_type": "code",
   "execution_count": null,
   "id": "9f90ee6e-2552-4532-8dd2-d32da12a603f",
   "metadata": {},
   "outputs": [],
   "source": []
  },
  {
   "cell_type": "code",
   "execution_count": null,
   "id": "4fddce4d-c63a-4eac-9ca4-0d76ccef0358",
   "metadata": {},
   "outputs": [],
   "source": []
  },
  {
   "cell_type": "code",
   "execution_count": null,
   "id": "8ff4a4e0-6625-4d31-9999-213663bb302d",
   "metadata": {},
   "outputs": [],
   "source": []
  }
 ],
 "metadata": {
  "kernelspec": {
   "display_name": "Python 3 (ipykernel)",
   "language": "python",
   "name": "python3"
  },
  "language_info": {
   "codemirror_mode": {
    "name": "ipython",
    "version": 3
   },
   "file_extension": ".py",
   "mimetype": "text/x-python",
   "name": "python",
   "nbconvert_exporter": "python",
   "pygments_lexer": "ipython3",
   "version": "3.13.2"
  }
 },
 "nbformat": 4,
 "nbformat_minor": 5
}

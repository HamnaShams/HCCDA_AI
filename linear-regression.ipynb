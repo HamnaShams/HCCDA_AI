{
 "cells": [
  {
   "cell_type": "code",
   "execution_count": 39,
   "id": "9ad5043e-fa9a-4eb1-b524-fb243c5a591e",
   "metadata": {},
   "outputs": [
    {
     "data": {
      "text/plain": [
       "[1.0, 2.0, 3.0, 4.0, 5.0]"
      ]
     },
     "execution_count": 39,
     "metadata": {},
     "output_type": "execute_result"
    }
   ],
   "source": [
    "x = [1.0,2.0,3.0,4.0,5.0]\n",
    "x"
   ]
  },
  {
   "cell_type": "code",
   "execution_count": 40,
   "id": "2758f582-a188-4daf-8509-30680e5b1661",
   "metadata": {},
   "outputs": [
    {
     "data": {
      "text/plain": [
       "[150, 200, 250, 300, 350]"
      ]
     },
     "execution_count": 40,
     "metadata": {},
     "output_type": "execute_result"
    }
   ],
   "source": [
    "y =[150, 200, 250, 300, 350]\n",
    "y"
   ]
  },
  {
   "cell_type": "code",
   "execution_count": 41,
   "id": "993c5712-20b0-4695-9ef4-907d0cded3e7",
   "metadata": {},
   "outputs": [
    {
     "name": "stdout",
     "output_type": "stream",
     "text": [
      "1\n"
     ]
    },
    {
     "data": {
      "text/plain": [
       "1"
      ]
     },
     "execution_count": 41,
     "metadata": {},
     "output_type": "execute_result"
    }
   ],
   "source": [
    "w=1\n",
    "b=1\n",
    "print(w)\n",
    "b"
   ]
  },
  {
   "cell_type": "code",
   "execution_count": 49,
   "id": "e23a42f0-dcef-4f57-9bd8-a966be96a05b",
   "metadata": {},
   "outputs": [
    {
     "name": "stdout",
     "output_type": "stream",
     "text": [
      "2.0\n",
      "3.0\n",
      "4.0\n",
      "5.0\n",
      "6.0\n",
      "326590.0\n",
      "MSE: 65318.0\n"
     ]
    }
   ],
   "source": [
    "sum_error = 0\n",
    "for i in range (len(x)):\n",
    "    f_x = w*x[i]+b\n",
    "    print(f_x)\n",
    "    error = (f_x - y[i])**2\n",
    "    #print(error)\n",
    "    sum_error +=error    \n",
    "print(sum_error)\n",
    "cost= sum_error / len(x)\n",
    "print(f\"MSE: {cost}\")"
   ]
  },
  {
   "cell_type": "code",
   "execution_count": null,
   "id": "a9b4be62-b9e0-4147-adac-9d51d58c4654",
   "metadata": {},
   "outputs": [],
   "source": []
  }
 ],
 "metadata": {
  "kernelspec": {
   "display_name": "Python 3 (ipykernel)",
   "language": "python",
   "name": "python3"
  },
  "language_info": {
   "codemirror_mode": {
    "name": "ipython",
    "version": 3
   },
   "file_extension": ".py",
   "mimetype": "text/x-python",
   "name": "python",
   "nbconvert_exporter": "python",
   "pygments_lexer": "ipython3",
   "version": "3.13.2"
  }
 },
 "nbformat": 4,
 "nbformat_minor": 5
}

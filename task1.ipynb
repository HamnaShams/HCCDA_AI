{
 "cells": [
  {
   "cell_type": "code",
   "execution_count": 9,
   "id": "6a86fe3d-ddc0-4035-9186-134aab52843f",
   "metadata": {},
   "outputs": [
    {
     "name": "stdout",
     "output_type": "stream",
     "text": [
      "It is not a palindrome\n"
     ]
    }
   ],
   "source": [
    "#palindrome\n",
    "txt1=\"level\"\n",
    "txt2=\"hello\"\n",
    "txt3=\"madam\"\n",
    "txt4=\"a man a plan a canal panama\"\n",
    "rev_txt4= reversed(txt4)\n",
    "if list(txt4)==list(rev_txt4):\n",
    "    print(\"It is a palindrome\")\n",
    "else:\n",
    "    print(\"It is not a palindrome\") \n",
    "\n"
   ]
  },
  {
   "cell_type": "code",
   "execution_count": 14,
   "id": "c7438b63-c6f3-4726-899f-0b62015c9c05",
   "metadata": {},
   "outputs": [
    {
     "name": "stdout",
     "output_type": "stream",
     "text": [
      "it is anagram\n"
     ]
    }
   ],
   "source": [
    "#anagram\n",
    "txt1='Lisent'\n",
    "txt2='Silent'\n",
    "txt1=txt1.lower()\n",
    "txt2=txt2.lower()\n",
    "if(len(txt1)==len(txt2)):\n",
    "    sort_txt1=sorted(txt1)\n",
    "    sort=sorted(txt2)\n",
    "if(sort_txt1 == sort_txt2):\n",
    "    print(\"it is anagram\")\n",
    "else:\n",
    "    print(\"it is not anagram\")\n"
   ]
  },
  {
   "cell_type": "code",
   "execution_count": 15,
   "id": "94de2b6c-01dc-4a0c-859f-01b67354a9fb",
   "metadata": {},
   "outputs": [
    {
     "name": "stdin",
     "output_type": "stream",
     "text": [
      "Enter a word listen\n",
      "Enter a word silent\n"
     ]
    },
    {
     "name": "stdout",
     "output_type": "stream",
     "text": [
      "it is anagram\n"
     ]
    }
   ],
   "source": [
    "#anagram\n",
    "txt1=(input(\"Enter a word\"))\n",
    "txt2=(input(\"Enter a word\"))\n",
    "txt1=txt1.lower()\n",
    "txt2=txt2.lower()\n",
    "if(len(txt1)==len(txt2)):\n",
    "    sort_txt1=sorted(txt1)\n",
    "    sort_txt2=sorted(txt2)\n",
    "if(sort_txt1 == sort_txt2):\n",
    "    print(\"it is anagram\")\n",
    "else:\n",
    "    print(\"it is not anagram\")\n"
   ]
  },
  {
   "cell_type": "code",
   "execution_count": null,
   "id": "a3b8485b-6e1b-4676-831d-91b3b2a40f1d",
   "metadata": {},
   "outputs": [],
   "source": []
  }
 ],
 "metadata": {
  "kernelspec": {
   "display_name": "Python 3 (ipykernel)",
   "language": "python",
   "name": "python3"
  },
  "language_info": {
   "codemirror_mode": {
    "name": "ipython",
    "version": 3
   },
   "file_extension": ".py",
   "mimetype": "text/x-python",
   "name": "python",
   "nbconvert_exporter": "python",
   "pygments_lexer": "ipython3",
   "version": "3.13.2"
  }
 },
 "nbformat": 4,
 "nbformat_minor": 5
}

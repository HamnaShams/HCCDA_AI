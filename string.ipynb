{
 "cells": [
  {
   "cell_type": "code",
   "execution_count": 2,
   "id": "125f0e12-9ddd-447b-8d70-69799f0b94c9",
   "metadata": {},
   "outputs": [
    {
     "name": "stdout",
     "output_type": "stream",
     "text": [
      "My name is 'Hamna'\n"
     ]
    }
   ],
   "source": [
    "#string data structure\n",
    "txt1=\"My name is 'Hamna'\"\n",
    "print(txt1)\n"
   ]
  },
  {
   "cell_type": "code",
   "execution_count": 4,
   "id": "def46ce3-16ca-40cc-9be0-f912bd932b79",
   "metadata": {},
   "outputs": [
    {
     "data": {
      "text/plain": [
       "'My '"
      ]
     },
     "execution_count": 4,
     "metadata": {},
     "output_type": "execute_result"
    }
   ],
   "source": [
    "txt1[:3]\n",
    "#slicing"
   ]
  },
  {
   "cell_type": "code",
   "execution_count": 6,
   "id": "c17f06a4-5165-42c9-9e83-ed7ecdd7eb06",
   "metadata": {},
   "outputs": [
    {
     "name": "stdout",
     "output_type": "stream",
     "text": [
      "My name is 'Faiz Ahmed'\n"
     ]
    }
   ],
   "source": [
    "txt2=\"My name is 'Faiz Ahmed'\"\n",
    "print(txt2)"
   ]
  },
  {
   "cell_type": "code",
   "execution_count": 10,
   "id": "1e38db38-dfed-48f0-bd49-849225e9c1e1",
   "metadata": {},
   "outputs": [
    {
     "name": "stdout",
     "output_type": "stream",
     "text": [
      "My name is 'Hamna'My name is 'Faiz Ahmed'\n"
     ]
    }
   ],
   "source": [
    "txt_merge= txt1+txt2\n",
    "print(txt_merge)"
   ]
  },
  {
   "cell_type": "code",
   "execution_count": 11,
   "id": "6376a6d5-d049-4f99-a802-a283cc7aa9cb",
   "metadata": {},
   "outputs": [
    {
     "data": {
      "text/plain": [
       "23"
      ]
     },
     "execution_count": 11,
     "metadata": {},
     "output_type": "execute_result"
    }
   ],
   "source": [
    "len(txt2)\n"
   ]
  },
  {
   "cell_type": "code",
   "execution_count": 12,
   "id": "061fe799-5fc1-4dfd-99d4-f56f1468dd9f",
   "metadata": {},
   "outputs": [
    {
     "name": "stdout",
     "output_type": "stream",
     "text": [
      "\n",
      "Never gonna give you up\n",
      "Never gonna let you down\n",
      "\n"
     ]
    }
   ],
   "source": [
    "message = \"\"\"\n",
    "Never gonna give you up\n",
    "Never gonna let you down\n",
    "\"\"\"\n",
    "\n",
    "print(message)"
   ]
  },
  {
   "cell_type": "code",
   "execution_count": 15,
   "id": "49332ea4-8ee2-41c9-9140-976976504fc5",
   "metadata": {},
   "outputs": [
    {
     "name": "stdout",
     "output_type": "stream",
     "text": [
      "UPPER\n"
     ]
    }
   ],
   "source": [
    "txt3=\"upper\"\n",
    "print(txt3.upper())\n"
   ]
  },
  {
   "cell_type": "code",
   "execution_count": 17,
   "id": "1c4f1662-bd2b-4155-bb16-6e796e65b0e1",
   "metadata": {},
   "outputs": [
    {
     "name": "stdout",
     "output_type": "stream",
     "text": [
      "rot roll\n"
     ]
    }
   ],
   "source": [
    "text = 'bat ball'\n",
    "\n",
    "# replace 'ba' with 'ro'\n",
    "replaced_text = text.replace('ba', 'ro')\n",
    "print(replaced_text)\n",
    "\n",
    "# Output: rot roll\n"
   ]
  },
  {
   "cell_type": "code",
   "execution_count": null,
   "id": "35e58f18-64e5-4762-91ce-5eb61d8b399a",
   "metadata": {},
   "outputs": [],
   "source": []
  }
 ],
 "metadata": {
  "kernelspec": {
   "display_name": "Python 3 (ipykernel)",
   "language": "python",
   "name": "python3"
  },
  "language_info": {
   "codemirror_mode": {
    "name": "ipython",
    "version": 3
   },
   "file_extension": ".py",
   "mimetype": "text/x-python",
   "name": "python",
   "nbconvert_exporter": "python",
   "pygments_lexer": "ipython3",
   "version": "3.13.2"
  }
 },
 "nbformat": 4,
 "nbformat_minor": 5
}

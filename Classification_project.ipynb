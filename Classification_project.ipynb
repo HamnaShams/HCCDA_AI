{
 "cells": [
  {
   "cell_type": "markdown",
   "id": "2d31a17a-98dc-44b8-88ab-1dbefbf94688",
   "metadata": {},
   "source": [
    "<h1 style=\"color: teal; font-size: 40px;\">❤️ Heart Disease Classification Project</h1>"
   ]
  },
  {
   "cell_type": "code",
   "execution_count": 31,
   "id": "9bb25ded-9d8d-4435-9f80-1c3cd4f4e60a",
   "metadata": {},
   "outputs": [],
   "source": [
    "# classification_project.py\n",
    "\n",
    "import pandas as pd\n",
    "import pickle\n",
    "from sklearn.model_selection import train_test_split\n",
    "from sklearn.preprocessing import StandardScaler\n",
    "from sklearn.linear_model import LogisticRegression\n",
    "from sklearn.neighbors import KNeighborsClassifier\n",
    "from sklearn.tree import DecisionTreeClassifier\n",
    "from sklearn.ensemble import RandomForestClassifier\n",
    "from sklearn.svm import SVC\n",
    "from sklearn.metrics import accuracy_score, precision_score, recall_score, f1_score"
   ]
  },
  {
   "cell_type": "code",
   "execution_count": 32,
   "id": "3bf55c13-cd5b-42d0-936a-ab8975824b94",
   "metadata": {},
   "outputs": [],
   "source": [
    "# Load dataset\n",
    "df = pd.read_csv(\"heart.csv\")\n",
    "X = df.drop(\"target\", axis=1)\n",
    "y = df[\"target\"]"
   ]
  },
  {
   "cell_type": "code",
   "execution_count": 33,
   "id": "c5bce375-d02b-405e-a62f-f657611a9a9b",
   "metadata": {},
   "outputs": [],
   "source": [
    "# Preprocessing\n",
    "scaler = StandardScaler()\n",
    "X_scaled = scaler.fit_transform(X)"
   ]
  },
  {
   "cell_type": "code",
   "execution_count": 34,
   "id": "3466a4b5-ef53-4f9a-ab43-a6830d679a8a",
   "metadata": {},
   "outputs": [],
   "source": [
    "# Split dataset\n",
    "X_train, X_test, y_train, y_test = train_test_split(X_scaled, y, test_size=0.2, random_state=42)"
   ]
  },
  {
   "cell_type": "code",
   "execution_count": 35,
   "id": "1d5b44f7-4df9-44d3-ba62-9611b6ea6f04",
   "metadata": {},
   "outputs": [],
   "source": [
    "# Models\n",
    "models = {\n",
    "    \"Logistic Regression\": LogisticRegression(),\n",
    "    \"KNN\": KNeighborsClassifier(),\n",
    "    \"Decision Tree\": DecisionTreeClassifier(),\n",
    "    \"Random Forest\": RandomForestClassifier(),\n",
    "    \"SVM\": SVC(probability=True)\n",
    "}"
   ]
  },
  {
   "cell_type": "code",
   "execution_count": 36,
   "id": "5cd7fb7d-8af1-42f1-aeac-345d2c84c218",
   "metadata": {},
   "outputs": [],
   "source": [
    "# Train and evaluate\n",
    "results = {}\n",
    "for name, model in models.items():\n",
    "    model.fit(X_train, y_train)\n",
    "    preds = model.predict(X_test)\n",
    "    results[name] = {\n",
    "        \"accuracy\": accuracy_score(y_test, preds),\n",
    "        \"precision\": precision_score(y_test, preds),\n",
    "        \"recall\": recall_score(y_test, preds),\n",
    "        \"f1_score\": f1_score(y_test, preds)\n",
    "    }"
   ]
  },
  {
   "cell_type": "code",
   "execution_count": 37,
   "id": "30e2ac91-e2e0-45ce-a41e-fb8b686dd995",
   "metadata": {},
   "outputs": [
    {
     "name": "stdout",
     "output_type": "stream",
     "text": [
      "                     accuracy  precision    recall  f1_score\n",
      "Decision Tree        0.985366   1.000000  0.970874  0.985222\n",
      "Random Forest        0.985366   1.000000  0.970874  0.985222\n",
      "SVM                  0.887805   0.850877  0.941748  0.894009\n",
      "KNN                  0.834146   0.800000  0.893204  0.844037\n",
      "Logistic Regression  0.795122   0.756303  0.873786  0.810811\n"
     ]
    }
   ],
   "source": [
    "# Print results\n",
    "results_df = pd.DataFrame(results).T.sort_values(by=\"f1_score\", ascending=False)\n",
    "print(results_df)"
   ]
  },
  {
   "cell_type": "code",
   "execution_count": 38,
   "id": "98b676f4-efcd-4c29-a222-bca624a985c7",
   "metadata": {},
   "outputs": [
    {
     "name": "stdout",
     "output_type": "stream",
     "text": [
      "\n",
      "Saved best model: Decision Tree\n"
     ]
    }
   ],
   "source": [
    "# Save best model\n",
    "best_model_name = results_df.index[0]\n",
    "best_model = models[best_model_name]\n",
    "with open(\"heart_model.pkl\", \"wb\") as f:\n",
    "    pickle.dump(best_model, f)\n",
    "\n",
    "print(f\"\\nSaved best model: {best_model_name}\")\n"
   ]
  },
  {
   "cell_type": "markdown",
   "id": "15e84fe8-d423-471a-b11e-7898ce84aa6a",
   "metadata": {},
   "source": [
    "<h1 style=\"color: teal; font-size: 40px;\">GUI</h1>"
   ]
  },
  {
   "cell_type": "code",
   "execution_count": 40,
   "id": "e109bd07-5d6b-4e20-be9d-9c8c7441f6f7",
   "metadata": {},
   "outputs": [
    {
     "data": {
      "application/vnd.jupyter.widget-view+json": {
       "model_id": "d174b9fe3c954c70b0bf9c7934fd0781",
       "version_major": 2,
       "version_minor": 0
      },
      "text/plain": [
       "VBox(children=(HTML(value=\"<h2 style='color:darkred;'>🫀 Heart Disease Predictor</h2>\"), IntSlider(value=50, de…"
      ]
     },
     "metadata": {},
     "output_type": "display_data"
    }
   ],
   "source": [
    "import pickle\n",
    "import numpy as np\n",
    "import ipywidgets as widgets\n",
    "from IPython.display import display, clear_output\n",
    "\n",
    "# Load saved model\n",
    "with open(\"heart_model.pkl\", \"rb\") as file:\n",
    "    model = pickle.load(file)\n",
    "\n",
    "# Feature input widgets (based on UCI Heart dataset)\n",
    "age = widgets.IntSlider(min=25, max=80, value=50, description='Age')\n",
    "sex = widgets.Dropdown(options=[('Male', 1), ('Female', 0)], description='Sex')\n",
    "cp = widgets.Dropdown(options=[('Typical Angina', 0), ('Atypical Angina', 1), \n",
    "                                ('Non-anginal Pain', 2), ('Asymptomatic', 3)], description='Chest Pain Type')\n",
    "trestbps = widgets.IntSlider(min=80, max=200, value=120, description='Resting BP')\n",
    "chol = widgets.IntSlider(min=100, max=600, value=240, description='Cholesterol')\n",
    "fbs = widgets.Dropdown(options=[('> 120 mg/dl', 1), ('<= 120 mg/dl', 0)], description='Fasting Blood Sugar')\n",
    "restecg = widgets.Dropdown(options=[('Normal', 0), ('ST-T abnormality', 1), \n",
    "                                     ('Left ventricular hypertrophy', 2)], description='Rest ECG')\n",
    "thalach = widgets.IntSlider(min=70, max=210, value=150, description='Max Heart Rate')\n",
    "exang = widgets.Dropdown(options=[('Yes', 1), ('No', 0)], description='Exercise Induced Angina')\n",
    "oldpeak = widgets.FloatSlider(min=0.0, max=6.0, value=1.0, step=0.1, description='Oldpeak')\n",
    "slope = widgets.Dropdown(options=[('Upsloping', 0), ('Flat', 1), ('Downsloping', 2)], description='Slope')\n",
    "ca = widgets.IntSlider(min=0, max=3, value=0, description='CA (vessels)')\n",
    "thal = widgets.Dropdown(options=[('Normal', 1), ('Fixed Defect', 2), ('Reversible Defect', 3)], description='Thal')\n",
    "\n",
    "predict_btn = widgets.Button(description=\"💉 Predict\", button_style='success')\n",
    "output_box = widgets.Output()\n",
    "\n",
    "# Prediction logic\n",
    "def predict_heart_disease(b):\n",
    "    with output_box:\n",
    "        clear_output()\n",
    "        input_data = np.array([[\n",
    "            age.value, sex.value, cp.value, trestbps.value, chol.value,\n",
    "            fbs.value, restecg.value, thalach.value, exang.value,\n",
    "            oldpeak.value, slope.value, ca.value, thal.value\n",
    "        ]])\n",
    "        prediction = model.predict(input_data)[0]\n",
    "        result = \"⚠️ High Risk of Heart Disease\" if prediction == 1 else \"✅ Low Risk of Heart Disease\"\n",
    "        color = \"red\" if prediction == 1 else \"green\"\n",
    "        display(widgets.HTML(f\"<h3 style='color:{color}'>{result}</h3>\"))\n",
    "\n",
    "predict_btn.on_click(predict_heart_disease)\n",
    "\n",
    "# GUI Layout\n",
    "gui = widgets.VBox([\n",
    "    widgets.HTML(\"<h2 style='color:darkred;'>🫀 Heart Disease Predictor</h2>\"),\n",
    "    age, sex, cp, trestbps, chol, fbs, restecg,\n",
    "    thalach, exang, oldpeak, slope, ca, thal,\n",
    "    predict_btn, output_box\n",
    "])\n",
    "\n",
    "display(gui)\n"
   ]
  },
  {
   "cell_type": "code",
   "execution_count": null,
   "id": "3902dd91-84b5-49c3-982b-2c73e8501b10",
   "metadata": {},
   "outputs": [],
   "source": []
  }
 ],
 "metadata": {
  "kernelspec": {
   "display_name": "Python 3 (ipykernel)",
   "language": "python",
   "name": "python3"
  },
  "language_info": {
   "codemirror_mode": {
    "name": "ipython",
    "version": 3
   },
   "file_extension": ".py",
   "mimetype": "text/x-python",
   "name": "python",
   "nbconvert_exporter": "python",
   "pygments_lexer": "ipython3",
   "version": "3.13.2"
  }
 },
 "nbformat": 4,
 "nbformat_minor": 5
}

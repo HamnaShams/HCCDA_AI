{
 "cells": [
  {
   "cell_type": "code",
   "execution_count": 14,
   "id": "72389c52-99a2-404a-a2fc-f8f4a6d4def7",
   "metadata": {},
   "outputs": [
    {
     "name": "stdout",
     "output_type": "stream",
     "text": [
      "Faiz\n"
     ]
    }
   ],
   "source": [
    "#dictionary\n",
    "client_info={'name':'Faiz','age':20,'city':'Multan'}\n",
    "print(client_info[\"name\"])"
   ]
  },
  {
   "cell_type": "code",
   "execution_count": 18,
   "id": "023c257b-a29a-4bca-b422-342afd232ee0",
   "metadata": {},
   "outputs": [
    {
     "name": "stdout",
     "output_type": "stream",
     "text": [
      "('city', 'Multan')\n"
     ]
    }
   ],
   "source": [
    "client_info={'name':'Faiz','age':20,'city':'Multan'}\n",
    "print( client_info.popitem())\n"
   ]
  },
  {
   "cell_type": "code",
   "execution_count": 21,
   "id": "4eac1582-7cbc-4ddb-a088-8391fb865adc",
   "metadata": {},
   "outputs": [
    {
     "name": "stdout",
     "output_type": "stream",
     "text": [
      "{'name': 'Faiz', 'age': 20, 'city': 'Multan'}\n",
      "{'name': 'Faiz', 'age': 20, 'city': 'Multan'}\n"
     ]
    }
   ],
   "source": [
    "client_info={'name':'Faiz','age':20,'city':'Multan'}\n",
    "print(client_info)\n",
    "copy_info= client_info.copy()\n",
    "print(copy_info)"
   ]
  },
  {
   "cell_type": "code",
   "execution_count": 36,
   "id": "0935bb8a-f912-482d-aa51-a8ae24abf76d",
   "metadata": {},
   "outputs": [
    {
     "name": "stdout",
     "output_type": "stream",
     "text": [
      "{'st_101': {'math': 90, 'phy': 80, 'cs': 90}, 'st_102': {'math': 80, 'phy': 80, 'cs': 70}, 'st_103': {'math': 60, 'phy': 90, 'cs': 100}, 'st_104': {'math': 100, 'phy': 97, 'cs': 99}}\n",
      "{'st_101': {'math': 90, 'phy': 80, 'cs': 90}, 'st_102': {'math': 80, 'phy': 80, 'cs': 70}, 'st_103': {'math': 60, 'phy': 90, 'cs': 100}, 'st_104': {'math': 100, 'phy': 97, 'cs': 99}}\n",
      "{'st_101': {'math': 90, 'phy': 80, 'cs': 90}, 'st_102': {'math': 80, 'phy': 80, 'cs': 70}, 'st_103': {'math': 60, 'phy': 90, 'cs': 100}, 'st_104': {'math': 100, 'phy': 97, 'cs': 99}}\n",
      "{'st_101': {'math': 90, 'phy': 80, 'cs': 90}, 'st_102': {'math': 80, 'phy': 80, 'cs': 70}, 'st_103': {'math': 60, 'phy': 90, 'cs': 100}, 'st_104': {'math': 100, 'phy': 97, 'cs': 99}}\n"
     ]
    }
   ],
   "source": [
    "student_info={\"st_101\":{\"math\":90,\"phy\":80,\"cs\":90},\n",
    "              \"st_102\":{\"math\":80,\"phy\":80,\"cs\":70},\n",
    "              \"st_103\":{\"math\":60,\"phy\":90,\"cs\":100},\n",
    "              \"st_104\":{\"math\":100,\"phy\":97,\"cs\":99}}\n",
    "for i in range (2):\n",
    "    for j in range(2):\n",
    "        print(student_info)\n",
    "\n"
   ]
  },
  {
   "cell_type": "code",
   "execution_count": null,
   "id": "7ef15168-5eed-4c31-9395-f0fd0043b7bd",
   "metadata": {},
   "outputs": [],
   "source": []
  }
 ],
 "metadata": {
  "kernelspec": {
   "display_name": "Python 3 (ipykernel)",
   "language": "python",
   "name": "python3"
  },
  "language_info": {
   "codemirror_mode": {
    "name": "ipython",
    "version": 3
   },
   "file_extension": ".py",
   "mimetype": "text/x-python",
   "name": "python",
   "nbconvert_exporter": "python",
   "pygments_lexer": "ipython3",
   "version": "3.13.2"
  }
 },
 "nbformat": 4,
 "nbformat_minor": 5
}
